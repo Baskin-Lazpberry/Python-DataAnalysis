{
  "nbformat": 4,
  "nbformat_minor": 0,
  "metadata": {
    "colab": {
      "provenance": [],
      "collapsed_sections": []
    },
    "kernelspec": {
      "name": "python3",
      "display_name": "Python 3"
    },
    "language_info": {
      "name": "python"
    }
  },
  "cells": [
    {
      "cell_type": "code",
      "execution_count": null,
      "metadata": {
        "id": "5F-_ZJc2AyJG"
      },
      "outputs": [],
      "source": [
        "tup = 4, 5, 6"
      ]
    },
    {
      "cell_type": "code",
      "source": [
        "tup"
      ],
      "metadata": {
        "id": "8qGeywlnBRjn"
      },
      "execution_count": null,
      "outputs": []
    },
    {
      "cell_type": "code",
      "source": [
        "nested_tup = (4, 5, 6), (7, 8)"
      ],
      "metadata": {
        "id": "buvdHl5EBSbD"
      },
      "execution_count": null,
      "outputs": []
    },
    {
      "cell_type": "code",
      "source": [
        "nested_tup"
      ],
      "metadata": {
        "id": "6UwKVbOeBl5l"
      },
      "execution_count": null,
      "outputs": []
    },
    {
      "cell_type": "code",
      "source": [
        "tuple([4, 0, 2])"
      ],
      "metadata": {
        "id": "wQDmnqfEBnnX"
      },
      "execution_count": null,
      "outputs": []
    },
    {
      "cell_type": "code",
      "source": [
        "tup = tuple('string')"
      ],
      "metadata": {
        "id": "YEbVdSeEBqWW"
      },
      "execution_count": null,
      "outputs": []
    },
    {
      "cell_type": "code",
      "source": [
        "tup"
      ],
      "metadata": {
        "id": "UwOTF5zpBsnf"
      },
      "execution_count": null,
      "outputs": []
    },
    {
      "cell_type": "code",
      "source": [
        "tup[3]"
      ],
      "metadata": {
        "id": "TB6XZO_rBtLa"
      },
      "execution_count": null,
      "outputs": []
    },
    {
      "cell_type": "code",
      "source": [
        "tup = tuple(['foo', [1, 2], True])"
      ],
      "metadata": {
        "id": "C5Fba4ElBvGd"
      },
      "execution_count": null,
      "outputs": []
    },
    {
      "cell_type": "code",
      "source": [
        "tup[2] = False"
      ],
      "metadata": {
        "id": "Li-7qiq3Bzoh"
      },
      "execution_count": null,
      "outputs": []
    },
    {
      "cell_type": "code",
      "source": [
        "tup[1].append(3)"
      ],
      "metadata": {
        "id": "PI1Btvx_B0kG"
      },
      "execution_count": null,
      "outputs": []
    },
    {
      "cell_type": "code",
      "source": [
        "tup"
      ],
      "metadata": {
        "id": "Z8CPseSJB3N0"
      },
      "execution_count": null,
      "outputs": []
    },
    {
      "cell_type": "code",
      "source": [
        "(4, None, 'foo') + (6, 0) + ('bar',)"
      ],
      "metadata": {
        "id": "AcPO3u3DB4Kk"
      },
      "execution_count": null,
      "outputs": []
    },
    {
      "cell_type": "code",
      "source": [
        "('foo', 'boo') * 4"
      ],
      "metadata": {
        "id": "ViQ2mMfhB8u8"
      },
      "execution_count": null,
      "outputs": []
    },
    {
      "cell_type": "code",
      "source": [
        "tup = 4, 5, 6"
      ],
      "metadata": {
        "id": "W3xKhOO0CHP0"
      },
      "execution_count": null,
      "outputs": []
    },
    {
      "cell_type": "code",
      "source": [
        "a, b, c = tup"
      ],
      "metadata": {
        "id": "ff4JxrhECJaH"
      },
      "execution_count": null,
      "outputs": []
    },
    {
      "cell_type": "code",
      "source": [
        "b"
      ],
      "metadata": {
        "id": "u9t6GKgeCKKv"
      },
      "execution_count": null,
      "outputs": []
    },
    {
      "cell_type": "code",
      "source": [
        "tup = 4, 5, (6, 7)"
      ],
      "metadata": {
        "id": "Z0xCsuqjCLCZ"
      },
      "execution_count": null,
      "outputs": []
    },
    {
      "cell_type": "code",
      "source": [
        "a, b, (c, d) = tup"
      ],
      "metadata": {
        "id": "j5nDL5nGCNrh"
      },
      "execution_count": null,
      "outputs": []
    },
    {
      "cell_type": "code",
      "source": [
        "d"
      ],
      "metadata": {
        "id": "EhuvgTI8CO9Y"
      },
      "execution_count": null,
      "outputs": []
    },
    {
      "cell_type": "code",
      "source": [
        "a, b = 1, 2"
      ],
      "metadata": {
        "id": "c8pBEG1-CPUb"
      },
      "execution_count": null,
      "outputs": []
    },
    {
      "cell_type": "code",
      "source": [
        "b,a = a, b"
      ],
      "metadata": {
        "id": "DHffo4InCR6D"
      },
      "execution_count": null,
      "outputs": []
    },
    {
      "cell_type": "code",
      "source": [
        "a"
      ],
      "metadata": {
        "id": "X-CJletiCTFd"
      },
      "execution_count": null,
      "outputs": []
    },
    {
      "cell_type": "code",
      "source": [
        "seq = [(1, 2, 3), (4, 5, 6),(7, 8, 9)]"
      ],
      "metadata": {
        "id": "zO4PdenkCUan"
      },
      "execution_count": null,
      "outputs": []
    },
    {
      "cell_type": "code",
      "source": [
        "for a, b, c in seq:\n",
        "  print('a={0}, b={1}, c={2}'.format(a, b, c))"
      ],
      "metadata": {
        "id": "iLgeAyZdCZHn"
      },
      "execution_count": null,
      "outputs": []
    },
    {
      "cell_type": "code",
      "source": [
        "val = 1, 2, 3, 4, 5"
      ],
      "metadata": {
        "id": "mMmyAdjmCasA"
      },
      "execution_count": null,
      "outputs": []
    },
    {
      "cell_type": "code",
      "source": [
        "a, b, *rest = val"
      ],
      "metadata": {
        "id": "VmIQtDNECobg"
      },
      "execution_count": null,
      "outputs": []
    },
    {
      "cell_type": "code",
      "source": [
        "a, b"
      ],
      "metadata": {
        "id": "H_j-RPh0Cpz-"
      },
      "execution_count": null,
      "outputs": []
    },
    {
      "cell_type": "code",
      "source": [
        "rest"
      ],
      "metadata": {
        "id": "JnqQpxd-Cqir"
      },
      "execution_count": null,
      "outputs": []
    },
    {
      "cell_type": "code",
      "source": [
        "a, b, *_ = val"
      ],
      "metadata": {
        "id": "VOO24oLlCrQx"
      },
      "execution_count": null,
      "outputs": []
    },
    {
      "cell_type": "code",
      "source": [
        "a, b, _"
      ],
      "metadata": {
        "id": "Kiem3XiwCuEq"
      },
      "execution_count": null,
      "outputs": []
    },
    {
      "cell_type": "code",
      "source": [
        "a = (1, 2, 2, 2, 3, 4, 2)"
      ],
      "metadata": {
        "id": "awRMWQpmCvYc"
      },
      "execution_count": null,
      "outputs": []
    },
    {
      "cell_type": "code",
      "source": [
        "a.count(2)"
      ],
      "metadata": {
        "id": "ff6-RU3zC5i3"
      },
      "execution_count": null,
      "outputs": []
    },
    {
      "cell_type": "code",
      "source": [
        "x = [4, None, 'foo']"
      ],
      "metadata": {
        "id": "5ekojgWMC6eo"
      },
      "execution_count": null,
      "outputs": []
    },
    {
      "cell_type": "code",
      "source": [
        "x.extend([7, 8 ,(2, 3)])"
      ],
      "metadata": {
        "id": "kkMWA9o-DHEU"
      },
      "execution_count": null,
      "outputs": []
    },
    {
      "cell_type": "code",
      "source": [
        "x"
      ],
      "metadata": {
        "id": "OwFRB4R6DJ9r"
      },
      "execution_count": null,
      "outputs": []
    },
    {
      "cell_type": "code",
      "source": [
        "b = ['saw', 'small', 'He', 'foxes', 'six']"
      ],
      "metadata": {
        "id": "W9NXuOGADKl6"
      },
      "execution_count": null,
      "outputs": []
    },
    {
      "cell_type": "code",
      "source": [
        "b.sort(key=len)"
      ],
      "metadata": {
        "id": "jAKy1SjkDSvB"
      },
      "execution_count": null,
      "outputs": []
    },
    {
      "cell_type": "code",
      "source": [
        "b"
      ],
      "metadata": {
        "id": "rEKsApdaDUBo"
      },
      "execution_count": null,
      "outputs": []
    },
    {
      "cell_type": "code",
      "source": [
        "import bisect"
      ],
      "metadata": {
        "id": "LW60g2UsDUcM"
      },
      "execution_count": null,
      "outputs": []
    },
    {
      "cell_type": "code",
      "source": [
        "c = [1, 2, 2, 3, 4, 7, 9]"
      ],
      "metadata": {
        "id": "g07u3qtWDX_j"
      },
      "execution_count": null,
      "outputs": []
    },
    {
      "cell_type": "code",
      "source": [
        "bisect.bisect(c, 2)"
      ],
      "metadata": {
        "id": "ARml93aIDdeu"
      },
      "execution_count": null,
      "outputs": []
    },
    {
      "cell_type": "code",
      "source": [
        "bisect.bisect(c, 5)"
      ],
      "metadata": {
        "id": "ah2IYIE4Df6M"
      },
      "execution_count": null,
      "outputs": []
    },
    {
      "cell_type": "code",
      "source": [
        "bisect.insort(c, 6)"
      ],
      "metadata": {
        "id": "INx7bIScDi9h"
      },
      "execution_count": null,
      "outputs": []
    },
    {
      "cell_type": "code",
      "source": [
        "c"
      ],
      "metadata": {
        "id": "HVGORbCgDmd8"
      },
      "execution_count": null,
      "outputs": []
    },
    {
      "cell_type": "code",
      "source": [
        "some_list = ['foo', 'bar', 'baz']"
      ],
      "metadata": {
        "id": "OXsb9mnZDnQu"
      },
      "execution_count": null,
      "outputs": []
    },
    {
      "cell_type": "code",
      "source": [
        "mapping = {}"
      ],
      "metadata": {
        "id": "NH1QOeBRDvX5"
      },
      "execution_count": null,
      "outputs": []
    },
    {
      "cell_type": "code",
      "source": [
        "for i, v in enumerate(some_list):\n",
        "  mapping[v] = i"
      ],
      "metadata": {
        "id": "rx86-p8SDwQI"
      },
      "execution_count": null,
      "outputs": []
    },
    {
      "cell_type": "code",
      "source": [
        "mapping"
      ],
      "metadata": {
        "id": "EsFfsMNiD0MG"
      },
      "execution_count": null,
      "outputs": []
    },
    {
      "cell_type": "code",
      "source": [
        "seq1 = ['Un', 'Deux', 'Trois']\n",
        "seq2 = ['One', 'Two', 'Three']"
      ],
      "metadata": {
        "id": "Q_-hkIFnD00U"
      },
      "execution_count": null,
      "outputs": []
    },
    {
      "cell_type": "code",
      "source": [
        "zipped = zip(seq1, seq2)"
      ],
      "metadata": {
        "id": "sFU3DiHmELeM"
      },
      "execution_count": null,
      "outputs": []
    },
    {
      "cell_type": "code",
      "source": [
        "list(zipped)"
      ],
      "metadata": {
        "id": "qu7b9VaYENP3"
      },
      "execution_count": null,
      "outputs": []
    },
    {
      "cell_type": "code",
      "source": [
        "for i, (a, b) in enumerate(zip(seq1, seq2)):\n",
        "  print('{0}: {1}, {2}'.format(i+1, a, b))"
      ],
      "metadata": {
        "id": "JrfIXEgWEOwK"
      },
      "execution_count": null,
      "outputs": []
    },
    {
      "cell_type": "code",
      "source": [
        "zipped = zip(seq1, seq2)"
      ],
      "metadata": {
        "id": "DJwvuf-YFNJ8"
      },
      "execution_count": null,
      "outputs": []
    },
    {
      "cell_type": "code",
      "source": [
        "french, english = zip(*zipped)"
      ],
      "metadata": {
        "id": "AZN_NHtHEXCp"
      },
      "execution_count": null,
      "outputs": []
    },
    {
      "cell_type": "code",
      "source": [
        "french"
      ],
      "metadata": {
        "id": "WPSRhwV8Etg-"
      },
      "execution_count": null,
      "outputs": []
    },
    {
      "cell_type": "code",
      "source": [
        "english"
      ],
      "metadata": {
        "id": "n_zci3Q0FCRV"
      },
      "execution_count": null,
      "outputs": []
    },
    {
      "cell_type": "code",
      "source": [
        "list(reversed(range(10)))"
      ],
      "metadata": {
        "id": "tuT5E0xqFC7U"
      },
      "execution_count": null,
      "outputs": []
    },
    {
      "cell_type": "code",
      "source": [
        "d1 = {'a': 'some value', 'b': [1, 2, 3, 4], 7: 'An int'}"
      ],
      "metadata": {
        "id": "XmxKZ1TlGRdg"
      },
      "execution_count": null,
      "outputs": []
    },
    {
      "cell_type": "code",
      "source": [
        "list(d1.keys())"
      ],
      "metadata": {
        "id": "KFPhX3FVWwkO"
      },
      "execution_count": null,
      "outputs": []
    },
    {
      "cell_type": "code",
      "source": [
        "list(d1.values())"
      ],
      "metadata": {
        "id": "lPMylpS6WzSS"
      },
      "execution_count": null,
      "outputs": []
    },
    {
      "cell_type": "code",
      "source": [
        "d1.update({'b': 'foo', 'c': 12})"
      ],
      "metadata": {
        "id": "dpCFP9TAW1P4"
      },
      "execution_count": null,
      "outputs": []
    },
    {
      "cell_type": "code",
      "source": [
        "d1"
      ],
      "metadata": {
        "id": "dQ2glLJCXADT"
      },
      "execution_count": null,
      "outputs": []
    },
    {
      "cell_type": "code",
      "source": [
        "mapping = {}"
      ],
      "metadata": {
        "id": "A2pdSKhuXAs6"
      },
      "execution_count": null,
      "outputs": []
    },
    {
      "cell_type": "code",
      "source": [
        "for key, value in zip(seq2, seq1):\n",
        "  mapping[key] = value"
      ],
      "metadata": {
        "id": "uG-yt0x3XJ0g"
      },
      "execution_count": null,
      "outputs": []
    },
    {
      "cell_type": "code",
      "source": [
        "mapping"
      ],
      "metadata": {
        "id": "6Piejmq6XbgM"
      },
      "execution_count": null,
      "outputs": []
    },
    {
      "cell_type": "code",
      "source": [
        "mapping = dict(zip(range(5), reversed(range(5))))"
      ],
      "metadata": {
        "id": "hoeHSkOsXcjM"
      },
      "execution_count": null,
      "outputs": []
    },
    {
      "cell_type": "code",
      "source": [
        "mapping"
      ],
      "metadata": {
        "id": "UHf3QiimXj3x"
      },
      "execution_count": null,
      "outputs": []
    },
    {
      "cell_type": "code",
      "source": [
        "words = ['apple', 'bat', 'bar', 'atom', 'book']"
      ],
      "metadata": {
        "id": "XRHGUYbCXkXa"
      },
      "execution_count": null,
      "outputs": []
    },
    {
      "cell_type": "code",
      "source": [
        "by_letter = {}"
      ],
      "metadata": {
        "id": "lvKlzEvBYlHj"
      },
      "execution_count": null,
      "outputs": []
    },
    {
      "cell_type": "code",
      "source": [
        "for word in words:\n",
        "  letter = word[0]\n",
        "  if letter not in by_letter:\n",
        "    by_letter[letter] = [word]\n",
        "  else:\n",
        "    by_letter[letter].append(word)"
      ],
      "metadata": {
        "id": "DmblopPNYmwz"
      },
      "execution_count": null,
      "outputs": []
    },
    {
      "cell_type": "code",
      "source": [
        "by_letter"
      ],
      "metadata": {
        "id": "Wq614qzSYp1H"
      },
      "execution_count": null,
      "outputs": []
    },
    {
      "cell_type": "code",
      "source": [
        "by_letter = {}\n",
        "for word in words:\n",
        "  by_letter.setdefault(word[0], []).append(word)"
      ],
      "metadata": {
        "id": "TCfL9l8OY3Bq"
      },
      "execution_count": null,
      "outputs": []
    },
    {
      "cell_type": "code",
      "source": [
        "by_letter"
      ],
      "metadata": {
        "id": "FOfLJzfpY_dJ"
      },
      "execution_count": null,
      "outputs": []
    },
    {
      "cell_type": "code",
      "source": [
        "from collections import defaultdict\n",
        "by_letter = defaultdict(list)\n",
        "for word in words:\n",
        "  by_letter[word[0]].append(word)"
      ],
      "metadata": {
        "id": "oqGHrcFAZBPy"
      },
      "execution_count": null,
      "outputs": []
    },
    {
      "cell_type": "code",
      "source": [
        "by_letter"
      ],
      "metadata": {
        "id": "G5z4BPk_ZR4S"
      },
      "execution_count": null,
      "outputs": []
    },
    {
      "cell_type": "code",
      "source": [
        "hash('string')"
      ],
      "metadata": {
        "id": "gmD0Yc08ZZat"
      },
      "execution_count": null,
      "outputs": []
    },
    {
      "cell_type": "code",
      "source": [
        "hash((1, 2, (3, 4)))"
      ],
      "metadata": {
        "id": "VscSUFksZguU"
      },
      "execution_count": null,
      "outputs": []
    },
    {
      "cell_type": "code",
      "source": [
        "hash((1, 2, [3, 4]))"
      ],
      "metadata": {
        "id": "JhaJN-74ZjJN"
      },
      "execution_count": null,
      "outputs": []
    },
    {
      "cell_type": "code",
      "source": [
        "d = {}"
      ],
      "metadata": {
        "id": "XkLabOmlZpGq"
      },
      "execution_count": null,
      "outputs": []
    },
    {
      "cell_type": "code",
      "source": [
        "d[tuple([1, 2, 3])] = 5"
      ],
      "metadata": {
        "id": "52-zeSNPZsE6"
      },
      "execution_count": null,
      "outputs": []
    },
    {
      "cell_type": "code",
      "source": [
        "d"
      ],
      "metadata": {
        "id": "1txmdZhBZuDR"
      },
      "execution_count": null,
      "outputs": []
    },
    {
      "cell_type": "code",
      "source": [
        "strings = ['a', 'as', 'bat', 'car', 'dove', 'python']"
      ],
      "metadata": {
        "id": "lCALUoNCZuqi"
      },
      "execution_count": null,
      "outputs": []
    },
    {
      "cell_type": "code",
      "source": [
        "[x.upper() for x in strings if len(x) > 2]"
      ],
      "metadata": {
        "id": "KuMmAkg2aPIj"
      },
      "execution_count": null,
      "outputs": []
    },
    {
      "cell_type": "code",
      "source": [
        "{len(x) for x in strings}"
      ],
      "metadata": {
        "id": "a5ErhrQAaSSH"
      },
      "execution_count": null,
      "outputs": []
    },
    {
      "cell_type": "code",
      "source": [
        "set(map(len, strings))"
      ],
      "metadata": {
        "id": "8bxYO2jOap2L"
      },
      "execution_count": null,
      "outputs": []
    },
    {
      "cell_type": "code",
      "source": [
        "{x : len(x) for x in strings}"
      ],
      "metadata": {
        "id": "QvLVnaRBasCn"
      },
      "execution_count": null,
      "outputs": []
    },
    {
      "cell_type": "code",
      "source": [
        "all_data = [['John', 'Emily', 'Michael', 'Mary', 'Steven'],\n",
        "            ['Maria', 'Juan', 'Javier', 'Natalia', 'Camilo']]"
      ],
      "metadata": {
        "id": "zc7Bsq7YbWba"
      },
      "execution_count": null,
      "outputs": []
    },
    {
      "cell_type": "code",
      "source": [
        "result = [name for names in all_data\n",
        "          for name in names if name.count('e') >= 2]"
      ],
      "metadata": {
        "id": "EWZ5xdg1b0Vw"
      },
      "execution_count": null,
      "outputs": []
    },
    {
      "cell_type": "code",
      "source": [
        "result"
      ],
      "metadata": {
        "id": "hqHluqL1cKEa"
      },
      "execution_count": null,
      "outputs": []
    },
    {
      "cell_type": "code",
      "source": [
        "some_tuples = [(1, 2, 3), (4, 5, 6), (7, 8, 9)]"
      ],
      "metadata": {
        "id": "bPj9HSb6cKjF"
      },
      "execution_count": null,
      "outputs": []
    },
    {
      "cell_type": "code",
      "source": [
        "flattened = [x for tup in some_tuples\n",
        "             for x in tup]"
      ],
      "metadata": {
        "id": "LscvmuqzcYkM"
      },
      "execution_count": null,
      "outputs": []
    },
    {
      "cell_type": "code",
      "source": [
        "flattened"
      ],
      "metadata": {
        "id": "epV4uFtNcfxV"
      },
      "execution_count": null,
      "outputs": []
    },
    {
      "cell_type": "code",
      "source": [
        "[[x for x in tup] for tup in some_tuples]"
      ],
      "metadata": {
        "id": "pi9Ep0dqcgp-"
      },
      "execution_count": null,
      "outputs": []
    },
    {
      "cell_type": "code",
      "source": [
        "import re"
      ],
      "metadata": {
        "id": "qM_88VMLcuEa"
      },
      "execution_count": null,
      "outputs": []
    },
    {
      "cell_type": "code",
      "source": [
        "def remove_punctuation(value):\n",
        "  return re.sub('[!#?]', '', value)"
      ],
      "metadata": {
        "id": "fOWKAdoRdflg"
      },
      "execution_count": null,
      "outputs": []
    },
    {
      "cell_type": "code",
      "source": [
        "clean_funcs = [str.strip, remove_punctuation, str.title]"
      ],
      "metadata": {
        "id": "FRqeVIozdzSp"
      },
      "execution_count": null,
      "outputs": []
    },
    {
      "cell_type": "code",
      "source": [
        "states = ['Alabama ', 'Georgia!', 'Georgia', 'georgia', 'FlOrIda', 'south carolina##', 'West virginia?']"
      ],
      "metadata": {
        "id": "rcedf_Zmd4gq"
      },
      "execution_count": null,
      "outputs": []
    },
    {
      "cell_type": "code",
      "source": [
        "def clean_strings(strings, funcs):\n",
        "  result = []\n",
        "  for val in strings:\n",
        "    for func in funcs:\n",
        "      val = func(val)\n",
        "    result.append(val)\n",
        "  return result"
      ],
      "metadata": {
        "id": "GW3yelVheMW0"
      },
      "execution_count": null,
      "outputs": []
    },
    {
      "cell_type": "code",
      "source": [
        "clean_strings(states, clean_funcs)"
      ],
      "metadata": {
        "id": "2EpahH3Pelix"
      },
      "execution_count": null,
      "outputs": []
    },
    {
      "cell_type": "code",
      "source": [
        "for x in map(remove_punctuation, states):\n",
        "  print(x)"
      ],
      "metadata": {
        "id": "-ZGUCFbHeosi"
      },
      "execution_count": null,
      "outputs": []
    },
    {
      "cell_type": "code",
      "source": [
        "strings = ['foo', 'card', 'bar', 'aaaa', 'abab']"
      ],
      "metadata": {
        "id": "s7pc9E1oe3oD"
      },
      "execution_count": null,
      "outputs": []
    },
    {
      "cell_type": "code",
      "source": [
        "strings.sort(key = lambda x: len(set(list(x))))"
      ],
      "metadata": {
        "id": "9Zs11jf3fTHg"
      },
      "execution_count": null,
      "outputs": []
    },
    {
      "cell_type": "code",
      "source": [
        "strings"
      ],
      "metadata": {
        "id": "xgQ7MehtfYKv"
      },
      "execution_count": null,
      "outputs": []
    },
    {
      "cell_type": "code",
      "source": [
        "def add_nums(x, y):\n",
        "  return x + y"
      ],
      "metadata": {
        "id": "1Bg2pO1afYpC"
      },
      "execution_count": null,
      "outputs": []
    },
    {
      "cell_type": "code",
      "source": [
        "add_five = lambda y: add_nums(5, y)"
      ],
      "metadata": {
        "id": "qAYpa5tufr--"
      },
      "execution_count": null,
      "outputs": []
    },
    {
      "cell_type": "code",
      "source": [
        "add_five(3)"
      ],
      "metadata": {
        "id": "Wy1_UavzfwAM"
      },
      "execution_count": null,
      "outputs": []
    },
    {
      "cell_type": "code",
      "source": [
        "from functools import partial\n",
        "add_five = partial(add_nums, 5)"
      ],
      "metadata": {
        "id": "SfjM5HI7fy2P"
      },
      "execution_count": null,
      "outputs": []
    },
    {
      "cell_type": "code",
      "source": [
        "add_five(3)"
      ],
      "metadata": {
        "id": "A0un-TBcf53d"
      },
      "execution_count": null,
      "outputs": []
    },
    {
      "cell_type": "code",
      "source": [
        "some_dict = {'a': 1, 'b': 2, 'c': 3}"
      ],
      "metadata": {
        "id": "iVKT1ytbf-K4"
      },
      "execution_count": null,
      "outputs": []
    },
    {
      "cell_type": "code",
      "source": [
        "for key in some_dict:\n",
        "  print(key)"
      ],
      "metadata": {
        "id": "IuCC8x5SgMV7"
      },
      "execution_count": null,
      "outputs": []
    },
    {
      "cell_type": "code",
      "source": [
        "dict_iterator = iter(some_dict)"
      ],
      "metadata": {
        "id": "cw96JdjZgOYC"
      },
      "execution_count": null,
      "outputs": []
    },
    {
      "cell_type": "code",
      "source": [
        "dict_iterator"
      ],
      "metadata": {
        "id": "RLBTEIS8gR9V"
      },
      "execution_count": null,
      "outputs": []
    },
    {
      "cell_type": "code",
      "source": [
        "list(dict_iterator)"
      ],
      "metadata": {
        "id": "nP3xCV4CgYmu"
      },
      "execution_count": null,
      "outputs": []
    },
    {
      "cell_type": "code",
      "source": [
        "def squares(n=10):\n",
        "  print('Generate spuares from 1 to {0}'.format(n**2))\n",
        "  for i in range(1, n+1):\n",
        "    yield i ** 2"
      ],
      "metadata": {
        "id": "lSr9qC22gaUG"
      },
      "execution_count": null,
      "outputs": []
    },
    {
      "cell_type": "code",
      "source": [
        "gen = squares()"
      ],
      "metadata": {
        "id": "TpIgtWGmgwvh"
      },
      "execution_count": null,
      "outputs": []
    },
    {
      "cell_type": "code",
      "source": [
        "gen"
      ],
      "metadata": {
        "id": "XX6VFLFIgzn3"
      },
      "execution_count": null,
      "outputs": []
    },
    {
      "cell_type": "code",
      "source": [
        "for x in gen:\n",
        "  print(x, end=' ')"
      ],
      "metadata": {
        "id": "TZZJtvOmg3WL"
      },
      "execution_count": null,
      "outputs": []
    },
    {
      "cell_type": "code",
      "source": [
        "gen = (x ** 2 for x in range(100))"
      ],
      "metadata": {
        "id": "JW83Hz3Eg6Qf"
      },
      "execution_count": null,
      "outputs": []
    },
    {
      "cell_type": "code",
      "source": [
        "gen"
      ],
      "metadata": {
        "id": "f3ckZjM-hBo_"
      },
      "execution_count": null,
      "outputs": []
    },
    {
      "cell_type": "code",
      "source": [
        "sum(x ** 2 for x in range(100))"
      ],
      "metadata": {
        "id": "46JP-Il_hCU6"
      },
      "execution_count": null,
      "outputs": []
    },
    {
      "cell_type": "code",
      "source": [
        "dict((i, i ** 2) for i in range(5))"
      ],
      "metadata": {
        "id": "qkzjqPjJhIvf"
      },
      "execution_count": null,
      "outputs": []
    },
    {
      "cell_type": "code",
      "source": [
        "import itertools"
      ],
      "metadata": {
        "id": "hN09KSv2hL_T"
      },
      "execution_count": null,
      "outputs": []
    },
    {
      "cell_type": "code",
      "source": [
        "first_letter = lambda x: x[0]"
      ],
      "metadata": {
        "id": "WPrryrKEhQXl"
      },
      "execution_count": null,
      "outputs": []
    },
    {
      "cell_type": "code",
      "source": [
        "names = ['Alan', 'Alex', 'Walter', 'White', 'Albert', 'James']"
      ],
      "metadata": {
        "id": "ienOKsCXhT4n"
      },
      "execution_count": null,
      "outputs": []
    },
    {
      "cell_type": "code",
      "source": [
        "for letter, name in itertools.groupby(names, first_letter):\n",
        "  print(letter, list(name))"
      ],
      "metadata": {
        "id": "ELyynfz_hhll"
      },
      "execution_count": null,
      "outputs": []
    },
    {
      "cell_type": "code",
      "source": [
        "def attempt_float(x):\n",
        "  try:\n",
        "    return float(x)\n",
        "  except:\n",
        "    return x"
      ],
      "metadata": {
        "id": "vgoq7yoBhvql"
      },
      "execution_count": null,
      "outputs": []
    },
    {
      "cell_type": "code",
      "source": [
        "attempt_float('1.2345')"
      ],
      "metadata": {
        "id": "Y4o5OPEOOEn7"
      },
      "execution_count": null,
      "outputs": []
    },
    {
      "cell_type": "code",
      "source": [
        "attempt_float('something')"
      ],
      "metadata": {
        "id": "kA0iYpsOOHF8"
      },
      "execution_count": null,
      "outputs": []
    },
    {
      "cell_type": "code",
      "source": [
        "attempt_float((1, 2))"
      ],
      "metadata": {
        "id": "WgcMIlADOI1Q"
      },
      "execution_count": null,
      "outputs": []
    },
    {
      "cell_type": "code",
      "source": [
        "def attempt_float(x):\n",
        "  try:\n",
        "    return float(x)\n",
        "  except ValueError:\n",
        "    return x"
      ],
      "metadata": {
        "id": "rQZ6dXLAOK3v"
      },
      "execution_count": null,
      "outputs": []
    },
    {
      "cell_type": "code",
      "source": [
        "attempt_float((1, 2))"
      ],
      "metadata": {
        "id": "RE8lA3ROOXhh"
      },
      "execution_count": null,
      "outputs": []
    },
    {
      "cell_type": "code",
      "source": [
        "attempt_float('abc')"
      ],
      "metadata": {
        "id": "27x-KXTLOZFh"
      },
      "execution_count": null,
      "outputs": []
    },
    {
      "cell_type": "code",
      "source": [
        "def attempt_float(x):\n",
        "  try:\n",
        "    print(float(x))\n",
        "  except (ValueError, TypeError):\n",
        "    print(x)\n",
        "  else:\n",
        "    print('Success')\n",
        "  finally:\n",
        "    print('Done')"
      ],
      "metadata": {
        "id": "N3FYV_AyOegA"
      },
      "execution_count": null,
      "outputs": []
    },
    {
      "cell_type": "code",
      "source": [
        "attempt_float('3.4')"
      ],
      "metadata": {
        "id": "xrHWE0dnQDPW"
      },
      "execution_count": null,
      "outputs": []
    },
    {
      "cell_type": "code",
      "source": [
        "attempt_float(\"something\")"
      ],
      "metadata": {
        "id": "H-9MrI5RQHPn"
      },
      "execution_count": null,
      "outputs": []
    },
    {
      "cell_type": "code",
      "source": [
        "def a(n):\n",
        "  try:\n",
        "    print('try')\n",
        "    float(n)\n",
        "    return\n",
        "  except:\n",
        "    print('except')\n",
        "    return\n",
        "  else:\n",
        "    print('else')\n",
        "    return\n",
        "  finally:\n",
        "    print('finally')"
      ],
      "metadata": {
        "id": "Zzd6sBC5QneA"
      },
      "execution_count": null,
      "outputs": []
    },
    {
      "cell_type": "code",
      "source": [
        "a('ab')"
      ],
      "metadata": {
        "id": "nh6VXfwCQ2FX"
      },
      "execution_count": null,
      "outputs": []
    }
  ]
}